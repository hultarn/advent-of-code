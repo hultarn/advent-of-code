{
 "cells": [
  {
   "cell_type": "code",
   "execution_count": 1,
   "id": "4aa2c437",
   "metadata": {},
   "outputs": [],
   "source": [
    "import advent_of_code as aoc"
   ]
  },
  {
   "cell_type": "code",
   "execution_count": 2,
   "id": "826eac18",
   "metadata": {},
   "outputs": [],
   "source": [
    "# INIT\n",
    "\n",
    "aoc = aoc.aoc(\"2022\", \"1\")"
   ]
  },
  {
   "cell_type": "code",
   "execution_count": 3,
   "id": "31586de9",
   "metadata": {},
   "outputs": [
    {
     "name": "stdout",
     "output_type": "stream",
     "text": [
      "True\n"
     ]
    }
   ],
   "source": [
    "# PART 1\n",
    "\n",
    "a = max([sum(map(int, i.split(\"\\n\"))) for i in aoc.data.split(\"\\n\\n\")])\n",
    "print(aoc.post(a, 1))"
   ]
  },
  {
   "cell_type": "code",
   "execution_count": 4,
   "id": "3cf32497",
   "metadata": {},
   "outputs": [
    {
     "name": "stdout",
     "output_type": "stream",
     "text": [
      "True\n"
     ]
    }
   ],
   "source": [
    "# PART 2\n",
    "\n",
    "a = sum(sorted(sum(map(int, i.split(\"\\n\"))) for i in aoc.data.split(\"\\n\\n\"))[-3:])\n",
    "print(aoc.post(\"1\", 2))"
   ]
  }
 ],
 "metadata": {
  "kernelspec": {
   "display_name": "Python 3",
   "language": "python",
   "name": "python3"
  },
  "language_info": {
   "codemirror_mode": {
    "name": "ipython",
    "version": 3
   },
   "file_extension": ".py",
   "mimetype": "text/x-python",
   "name": "python",
   "nbconvert_exporter": "python",
   "pygments_lexer": "ipython3",
   "version": "3.8.5"
  },
  "vscode": {
   "interpreter": {
    "hash": "369f2c481f4da34e4445cda3fffd2e751bd1c4d706f27375911949ba6bb62e1c"
   }
  }
 },
 "nbformat": 4,
 "nbformat_minor": 5
}
